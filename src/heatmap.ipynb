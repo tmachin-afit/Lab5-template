{
 "cells": [
  {
   "cell_type": "markdown",
   "metadata": {},
   "source": [
    "Authors: Joseph Curro, Nick Yielding, Timothy Machin\n",
    "\n",
    "This is a fun Machine Learning example using a pretrained Artificial Neural Network (ANN) to classify some images \n",
    "of Joseph Curro's pet cats Artemis and Freya and Nick Yielding's pet dogs Coco and Sasha. The last layers of this ANN is then used to generate a heatmap superimposed\n",
    "on the images to attempt to gain insight on what features of the image were most important to the ANN for the resulting\n",
    "classification. This example is adapted from the Chollet book's chapter 5 examples."
   ]
  },
  {
   "cell_type": "code",
   "execution_count": 1,
   "metadata": {},
   "outputs": [
    {
     "ename": "ModuleNotFoundError",
     "evalue": "No module named 'cv2'",
     "output_type": "error",
     "traceback": [
      "\u001b[0;31m---------------------------------------------------------------------------\u001b[0m",
      "\u001b[0;31mModuleNotFoundError\u001b[0m                       Traceback (most recent call last)",
      "Cell \u001b[0;32mIn[1], line 3\u001b[0m\n\u001b[1;32m      1\u001b[0m \u001b[38;5;28;01mfrom\u001b[39;00m \u001b[38;5;21;01mpathlib\u001b[39;00m \u001b[38;5;28;01mimport\u001b[39;00m Path\n\u001b[1;32m      2\u001b[0m \u001b[38;5;28;01mimport\u001b[39;00m \u001b[38;5;21;01mos\u001b[39;00m\n\u001b[0;32m----> 3\u001b[0m \u001b[38;5;28;01mimport\u001b[39;00m \u001b[38;5;21;01mcv2\u001b[39;00m\n\u001b[1;32m      4\u001b[0m \u001b[38;5;28;01mimport\u001b[39;00m \u001b[38;5;21;01mmatplotlib\u001b[39;00m\u001b[38;5;21;01m.\u001b[39;00m\u001b[38;5;21;01mpyplot\u001b[39;00m \u001b[38;5;28;01mas\u001b[39;00m \u001b[38;5;21;01mplt\u001b[39;00m\n\u001b[1;32m      5\u001b[0m \u001b[38;5;28;01mimport\u001b[39;00m \u001b[38;5;21;01mnumpy\u001b[39;00m \u001b[38;5;28;01mas\u001b[39;00m \u001b[38;5;21;01mnp\u001b[39;00m\n",
      "\u001b[0;31mModuleNotFoundError\u001b[0m: No module named 'cv2'"
     ]
    }
   ],
   "source": [
    "from pathlib import Path\n",
    "import os\n",
    "import cv2\n",
    "import matplotlib.pyplot as plt\n",
    "import numpy as np\n",
    "import tensorflow as tf\n",
    "from tensorflow import keras\n",
    "import keras.backend as K\n",
    "from tensorflow.keras.applications.vgg16 import VGG16\n",
    "from tensorflow.keras.applications.vgg16 import preprocess_input, decode_predictions\n",
    "from tensorflow.keras.preprocessing import image"
   ]
  },
  {
   "cell_type": "code",
   "execution_count": null,
   "metadata": {},
   "outputs": [],
   "source": [
    "# Careful with relative paths, but this makes a new absolute path from the relative\n",
    "# os.getcwd() is current working directory, os.pardir is one dir up, then go down to img folder\n",
    "img_in_folder = os.path.abspath(os.path.join(os.getcwd(),os.pardir,'img_in'))\n",
    "img_out_folder = os.path.abspath(os.path.join(os.getcwd(),os.pardir,'img_out'))\n",
    "# This makes a list of all files in the folder, expecting images\n",
    "# It will break if you put something else in there, such as a sub folder \n",
    "# would need regex or glob library to make it safer\n",
    "img_in_paths = os.listdir(img_in_folder)\n",
    "print(img_in_folder)\n",
    "print(img_out_folder)\n",
    "print(img_in_paths)"
   ]
  },
  {
   "cell_type": "markdown",
   "metadata": {},
   "source": [
    "By using this method of finding the files, you can drop in other files and rerun this notebook to try it on other things!"
   ]
  },
  {
   "cell_type": "code",
   "execution_count": null,
   "metadata": {},
   "outputs": [],
   "source": [
    "# this is from Chollet Jupyter Notebooks Section 5.4\n",
    "# Heat map of class activation\n",
    "# The local path to our target image\n",
    "# This is similar to the example in Section 5.4 from the Chollet book\n",
    "tf.compat.v1.disable_eager_execution()\n",
    "model = VGG16(weights='imagenet')"
   ]
  },
  {
   "cell_type": "code",
   "execution_count": null,
   "metadata": {},
   "outputs": [],
   "source": [
    "for img_file in img_in_paths:\n",
    "    \n",
    "    img = image.load_img(os.path.join(img_in_folder, img_file), target_size=(224, 224))\n",
    "\n",
    "    x = image.img_to_array(img)\n",
    "    plt.figure()\n",
    "    plt.subplot(1, 3, 1)\n",
    "    plt.imshow(x / 255.)\n",
    "\n",
    "    heatmap: np.ndarray = np.zeros((14, 14))\n",
    "    x = np.expand_dims(x, axis=0)\n",
    "    x = preprocess_input(x)\n",
    "    preds = model.predict(x)\n",
    "\n",
    "    print(f'Predicted for img {img_file}:', decode_predictions(preds, top=3)[0])\n",
    "\n",
    "    predicted_ouput = model.output[:, np.argmax(preds[0])]\n",
    "    last_conv_layer = model.get_layer('block5_conv3')\n",
    "    grads = K.gradients(predicted_ouput, last_conv_layer.output)[0]\n",
    "    pooled_grads = K.mean(grads, axis=(0, 1, 2))\n",
    "    iterate = K.function([model.input],\n",
    "                            [pooled_grads, last_conv_layer.output[0]])\n",
    "    pooled_grads_value, conv_layer_output_value = iterate([x])\n",
    "    for i in range(512):\n",
    "        conv_layer_output_value[:, :, i] *= pooled_grads_value[i]\n",
    "    heatmap = np.mean(conv_layer_output_value, axis=-1)\n",
    "    heatmap = np.maximum(heatmap, 0)\n",
    "    heatmap /= np.max(heatmap)\n",
    "    plt.subplot(1, 3, 2)\n",
    "    plt.imshow(heatmap / 255.)\n",
    "\n",
    "    # We use cv2 to load the original image\n",
    "    img = cv2.imread(os.path.join(img_in_folder, img_file))\n",
    "\n",
    "    # We resize the heatmap to have the same size as the original image\n",
    "    heatmap = cv2.resize(heatmap, (img.shape[1], img.shape[0]))\n",
    "\n",
    "    # We convert the heatmap to RGB\n",
    "    heatmap = np.uint8(255 * heatmap)\n",
    "\n",
    "    # We apply the heatmap to the original image\n",
    "    heatmap = cv2.applyColorMap(heatmap, cv2.COLORMAP_JET)\n",
    "\n",
    "    # 0.4 here is a heatmap intensity factor\n",
    "    superimposed_img = heatmap * 0.4 + img\n",
    "\n",
    "    # for some reason the plot shows the colors backwards but the saved image does not. weird.\n",
    "    # The weird slicing in imshow inverts the colors\n",
    "    plt.subplot(1, 3, 3)\n",
    "    plt.imshow(superimposed_img[..., [2, 1, 0]] / 255.)\n",
    "\n",
    "    # Save the image to disk\n",
    "    cv2.imwrite(os.path.join(img_out_folder,f\"heatmap_{img_file}\"), superimposed_img)\n",
    "\n",
    "    plt.show()"
   ]
  }
 ],
 "metadata": {
  "kernelspec": {
   "display_name": "Python 3",
   "language": "python",
   "name": "python3"
  },
  "language_info": {
   "codemirror_mode": {
    "name": "ipython",
    "version": 3
   },
   "file_extension": ".py",
   "mimetype": "text/x-python",
   "name": "python",
   "nbconvert_exporter": "python",
   "pygments_lexer": "ipython3",
   "version": "3.10.12"
  }
 },
 "nbformat": 4,
 "nbformat_minor": 2
}
